{
 "cells": [
  {
   "cell_type": "code",
   "execution_count": null,
   "id": "f6b9a334",
   "metadata": {},
   "outputs": [],
   "source": [
    "import pandas as pd\n",
    "import numpy as np\n",
    "\n",
    "from sklearn.cluster import KMeans"
   ]
  },
  {
   "cell_type": "code",
   "execution_count": null,
   "id": "3fef4b4f",
   "metadata": {},
   "outputs": [],
   "source": [
    "data_all = pd.read_csv(\"Matrix_final.csv\")"
   ]
  },
  {
   "cell_type": "code",
   "execution_count": null,
   "id": "5ba855e7",
   "metadata": {},
   "outputs": [],
   "source": [
    "labels_binary = pd.DataFrame()\n",
    "for Subj in range(1, 22):\n",
    "    df = pd.DataFrame(data_all[data_all[\"Subj\"] == Subj])\n",
    "    kmeans = KMeans(n_clusters=2, random_state=0)\n",
    "    kmeans.fit(np.array(df[\"Labels\"]))\n",
    "    center = np.sum(kmeans.cluster_centers_) / 2\n",
    "    df[\"Labels\"] = df[\"Labels\"].apply(lambda x: 0 if x < center else 1)\n",
    "    labels_binary = pd.concat([labels_binary, df])"
   ]
  }
 ],
 "metadata": {
  "kernelspec": {
   "display_name": "Python 3 (ipykernel)",
   "language": "python",
   "name": "python3"
  },
  "language_info": {
   "codemirror_mode": {
    "name": "ipython",
    "version": 3
   },
   "file_extension": ".py",
   "mimetype": "text/x-python",
   "name": "python",
   "nbconvert_exporter": "python",
   "pygments_lexer": "ipython3",
   "version": "3.9.7"
  }
 },
 "nbformat": 4,
 "nbformat_minor": 5
}
