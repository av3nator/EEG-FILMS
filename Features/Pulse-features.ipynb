{
 "cells": [
  {
   "cell_type": "code",
   "execution_count": null,
   "id": "a7b38e88",
   "metadata": {},
   "outputs": [],
   "source": [
    "import mne\n",
    "import os\n",
    "from tqdm import tqdm_notebook\n",
    "import neurokit2 as nk\n",
    "import numpy as np\n",
    "import yasa\n",
    "from scipy.signal import welch"
   ]
  },
  {
   "cell_type": "code",
   "execution_count": null,
   "id": "4ce6f640",
   "metadata": {},
   "outputs": [],
   "source": [
    "import heartpy as hp"
   ]
  },
  {
   "cell_type": "code",
   "execution_count": null,
   "id": "948c9153",
   "metadata": {},
   "outputs": [],
   "source": [
    "ratings = pd.read_excel('ratings/Result movies.xlsx')"
   ]
  },
  {
   "cell_type": "code",
   "execution_count": null,
   "id": "22cf148e",
   "metadata": {},
   "outputs": [],
   "source": [
    "n_subjects = 21\n",
    "matrix = pd.DataFrame()\n",
    "for Subject in tqdm_notebook(range(1, n_subjects + 1)):\n",
    "    filtered = mne.io.read_raw(\n",
    "        'raw_filtered_fif/S{}_filtered_raw.fif'.format('0' + str(Subject) if Subject < 10 else Subject))\n",
    "    raw = mne.io.read_raw('raw_full/' + (('00' + str(Subject) if Subject < 10 else '0' + str(Subject)) + 'a' if Subject ==\n",
    "                          2 or Subject == 5 else ('00' + str(Subject) if Subject < 10 else '0' + str(Subject))) + '.vhdr')\n",
    "    annot = filtered.annotations\n",
    "    n_events = 12 if Subject == 11 else 16\n",
    "    for i in range(0, n_events, 2):\n",
    "        film = annot[i]['description'].split('_')[-1]\n",
    "        try:\n",
    "            watch = raw.copy().crop(\n",
    "                annot[i]['onset'], annot[i]['onset'] + annot[i]['duration'])\n",
    "        except Exception as e:\n",
    "            watch = raw.copy().crop(\n",
    "                annot[i]['onset'], annot[i]['onset'] + annot[i]['duration'] - 0.01)\n",
    "\n",
    "        filtered = hp.hampel_filter(watch['Pulse'][0][0], filtsize=6)\n",
    "        try:\n",
    "            wd, m = hp.process(hp.scale_data(filtered), 1000)\n",
    "        except Exception as e:\n",
    "            continue\n",
    "\n",
    "        m['Film'] = film\n",
    "        m['Subject'] = Subject\n",
    "        m['Labels'] = ratings.loc[Subject - 1][film + '.mp4']\n",
    "        matrix = pd.concat([matrix, pd.DataFrame(m, index=[0])], axis=0)"
   ]
  }
 ],
 "metadata": {
  "kernelspec": {
   "display_name": "Python 3 (ipykernel)",
   "language": "python",
   "name": "python3"
  },
  "language_info": {
   "codemirror_mode": {
    "name": "ipython",
    "version": 3
   },
   "file_extension": ".py",
   "mimetype": "text/x-python",
   "name": "python",
   "nbconvert_exporter": "python",
   "pygments_lexer": "ipython3",
   "version": "3.9.7"
  }
 },
 "nbformat": 4,
 "nbformat_minor": 5
}
