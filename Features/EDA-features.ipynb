{
 "cells": [
  {
   "cell_type": "code",
   "execution_count": 1,
   "id": "1aa9df61",
   "metadata": {},
   "outputs": [],
   "source": [
    "import mne\n",
    "import os\n",
    "from tqdm import tqdm_notebook\n",
    "import neurokit2 as nk\n",
    "import numpy as np\n",
    "import yasa\n",
    "from scipy.signal import welch"
   ]
  },
  {
   "cell_type": "code",
   "execution_count": null,
   "id": "e56169c6",
   "metadata": {},
   "outputs": [],
   "source": [
    "ratings = pd.read_excel(\"ratings/Result movies.xlsx\")"
   ]
  },
  {
   "cell_type": "code",
   "execution_count": null,
   "id": "078399bd",
   "metadata": {},
   "outputs": [],
   "source": [
    "n_subjects = 21\n",
    "matrix = pd.DataFrame()\n",
    "for Subject in tqdm_notebook(range(1, n_subjects + 1)):\n",
    "    filtered = mne.io.read_raw(\n",
    "        \"raw_filtered_fif/S{}_filtered_raw.fif\".format(\n",
    "            \"0\" + str(Subject) if Subject < 10 else Subject\n",
    "        )\n",
    "    )\n",
    "    raw = mne.io.read_raw(\n",
    "        \"raw_full/\"\n",
    "        + (\n",
    "            (\"00\" + str(Subject) if Subject < 10 else \"0\" + str(Subject)) + \"a\"\n",
    "            if Subject == 2 or Subject == 5\n",
    "            else (\"00\" + str(Subject) if Subject < 10 else \"0\" + str(Subject))\n",
    "        )\n",
    "        + \".vhdr\"\n",
    "    )\n",
    "    annot = filtered.annotations\n",
    "    n_events = 12 if Subject == 11 else 16\n",
    "    for i in tqdm_notebook(range(0, n_events, 2)):\n",
    "        film = annot[i + 1][\"description\"].split(\"_\")[-1]\n",
    "        try:\n",
    "            watch = raw.copy().crop(\n",
    "                annot[i + 1][\"onset\"], annot[i + 1][\"onset\"] + annot[i + 1][\"duration\"]\n",
    "            )\n",
    "        except Exception as e:\n",
    "            watch = raw.copy().crop(\n",
    "                annot[i + 1][\"onset\"],\n",
    "                annot[i + 1][\"onset\"] + annot[i + 1][\"duration\"] - 0.01,\n",
    "            )\n",
    "        df, info = nk.eda_process(watch[\"EDA\"][0][0], sampling_rate=1000)\n",
    "        amplitudes = []\n",
    "        for i in range(min(len(info[\"SCR_Peaks\"]), len(info[\"SCR_Onsets\"]))):\n",
    "            if str(info[\"SCR_Onsets\"][i]) == \"nan\":\n",
    "                continue\n",
    "            amp = (\n",
    "                watch[\"EDA\"][0][0][int(info[\"SCR_Peaks\"][i])]\n",
    "                - watch[\"EDA\"][0][0][int(info[\"SCR_Onsets\"][i])]\n",
    "            )\n",
    "            amplitudes.append(amp)\n",
    "        dataframe = {\n",
    "            \"EDA\": np.sum(amplitudes) / (watch.last_samp / 1000),\n",
    "            \"Film\": film,\n",
    "            \"Subject\": Subject,\n",
    "            \"Labels\": ratings.loc[Subject - 1][film + \".mp4\"],\n",
    "        }\n",
    "        pd.DataFrame(dataframe, index=[0]).to_excel(\n",
    "            \"EDA_final/{}_{}.xlsx\".format(Subject, film)\n",
    "        )\n",
    "        matrix = pd.concat([matrix, pd.DataFrame(dataframe, index=[0])], axis=0)"
   ]
  }
 ],
 "metadata": {
  "kernelspec": {
   "display_name": "Python 3 (ipykernel)",
   "language": "python",
   "name": "python3"
  },
  "language_info": {
   "codemirror_mode": {
    "name": "ipython",
    "version": 3
   },
   "file_extension": ".py",
   "mimetype": "text/x-python",
   "name": "python",
   "nbconvert_exporter": "python",
   "pygments_lexer": "ipython3",
   "version": "3.11.5"
  }
 },
 "nbformat": 4,
 "nbformat_minor": 5
}
