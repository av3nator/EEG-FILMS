{
 "cells": [
  {
   "cell_type": "markdown",
   "id": "1da3679a",
   "metadata": {},
   "source": [
    "# Collect all data in a single DataFrame"
   ]
  },
  {
   "cell_type": "code",
   "execution_count": 2,
   "id": "8871f8f0",
   "metadata": {},
   "outputs": [],
   "source": [
    "import pandas as pd\n",
    "import numpy as np"
   ]
  },
  {
   "cell_type": "code",
   "execution_count": null,
   "id": "cb707269",
   "metadata": {},
   "outputs": [],
   "source": [
    "data_all = pd.read_csv(\"Features_all_cleaned.csv\")"
   ]
  },
  {
   "cell_type": "code",
   "execution_count": null,
   "id": "b6f7a79d",
   "metadata": {},
   "outputs": [],
   "source": [
    "ch_names = [\n",
    "    \"Fz\",\n",
    "    \"F3\",\n",
    "    \"F7\",\n",
    "    \"C3\",\n",
    "    \"T7\",\n",
    "    \"Pz\",\n",
    "    \"P3\",\n",
    "    \"P7\",\n",
    "    \"O1\",\n",
    "    \"Oz\",\n",
    "    \"O2\",\n",
    "    \"P4\",\n",
    "    \"P8\",\n",
    "    \"Cz\",\n",
    "    \"C4\",\n",
    "    \"T8\",\n",
    "    \"F4\",\n",
    "    \"F8\",\n",
    "]\n",
    "\n",
    "eeg = pd.pivot_table(data_all, index=[\"film\", \"Subj\"], columns=\"ch\").reset_index(\n",
    "    level=[0, 1]\n",
    ")\n",
    "\n",
    "eeg.columns = [\n",
    "    \"{}_{}\".format(col[0], ch_names[int(col[1]) - 1]) if col[1] != \"\" else col[0]\n",
    "    for col in df.columns\n",
    "]\n",
    "\n",
    "eeg = df.drop([\"labels_\" + ch_names[i] for i in range(1, 18)], axis=1)\n",
    "\n",
    "eeg.rename(columns={\"labels_Fz\": \"Labels\"}, inplace=True)"
   ]
  },
  {
   "cell_type": "code",
   "execution_count": null,
   "id": "159e72a6",
   "metadata": {},
   "outputs": [],
   "source": [
    "emg = pd.read_excel(\"EMG_watch-relax.xlsx\")\n",
    "eda = pd.read_excel(\"Eda_peaks.xlsx\")\n",
    "pulse = pd.read_excel(\"heartpy.xlsx\")"
   ]
  },
  {
   "cell_type": "code",
   "execution_count": null,
   "id": "a493ee3d",
   "metadata": {},
   "outputs": [],
   "source": [
    "result = pd.merge(pulse, eda)\n",
    "result = pd.merge(result, emg)\n",
    "result = pd.merge(eeg, result, how=\"outer\")"
   ]
  }
 ],
 "metadata": {
  "kernelspec": {
   "display_name": "Python 3 (ipykernel)",
   "language": "python",
   "name": "python3"
  },
  "language_info": {
   "codemirror_mode": {
    "name": "ipython",
    "version": 3
   },
   "file_extension": ".py",
   "mimetype": "text/x-python",
   "name": "python",
   "nbconvert_exporter": "python",
   "pygments_lexer": "ipython3",
   "version": "3.9.7"
  }
 },
 "nbformat": 4,
 "nbformat_minor": 5
}
